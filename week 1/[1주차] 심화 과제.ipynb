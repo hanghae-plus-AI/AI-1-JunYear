{
  "nbformat": 4,
  "nbformat_minor": 0,
  "metadata": {
    "colab": {
      "provenance": [],
      "gpuType": "T4"
    },
    "kernelspec": {
      "name": "python3",
      "display_name": "Python 3"
    },
    "language_info": {
      "name": "python"
    },
    "accelerator": "GPU"
  },
  "cells": [
    {
      "cell_type": "markdown",
      "source": [
        "# [1주차] 심화 과제: MNIST 예측 모델에 deep learning techniques 적용하기"
      ],
      "metadata": {
        "id": "zkW9TzSXBXJh"
      }
    },
    {
      "cell_type": "code",
      "source": [
        "import torch\n",
        "import torchvision\n",
        "import torchvision.transforms as transforms\n",
        "from torch import nn\n",
        "from torch.optim import SGD, Adam\n",
        "\n",
        "import numpy as np\n",
        "\n",
        "from matplotlib import pyplot as plt"
      ],
      "metadata": {
        "id": "_BBPvYVEBb23"
      },
      "execution_count": 1,
      "outputs": []
    },
    {
      "cell_type": "code",
      "source": [
        "transform = transforms.ToTensor()\n",
        "\n",
        "batch_size = 256\n",
        "\n",
        "trainset = torchvision.datasets.CIFAR10(\n",
        "    root='./data',\n",
        "    train=True,\n",
        "    download=True,\n",
        "    transform=transform\n",
        ")\n",
        "\n",
        "trainloader = torch.utils.data.DataLoader(\n",
        "    trainset,\n",
        "    batch_size=batch_size,\n",
        "    shuffle=True\n",
        ")\n",
        "\n",
        "testset = torchvision.datasets.CIFAR10(\n",
        "    root='./data',\n",
        "    train=False,\n",
        "    download=True,\n",
        "    transform=transform\n",
        ")\n",
        "\n",
        "testloader = torch.utils.data.DataLoader(\n",
        "    testset,\n",
        "    batch_size=batch_size,\n",
        "    shuffle=False\n",
        ")"
      ],
      "metadata": {
        "colab": {
          "base_uri": "https://localhost:8080/"
        },
        "id": "rWI4By2ZBveo",
        "outputId": "a1222211-dcca-45c9-e653-c31e696a46ad"
      },
      "execution_count": 2,
      "outputs": [
        {
          "output_type": "stream",
          "name": "stdout",
          "text": [
            "Downloading https://www.cs.toronto.edu/~kriz/cifar-10-python.tar.gz to ./data/cifar-10-python.tar.gz\n"
          ]
        },
        {
          "output_type": "stream",
          "name": "stderr",
          "text": [
            "100%|██████████| 170498071/170498071 [00:13<00:00, 12881528.63it/s]\n"
          ]
        },
        {
          "output_type": "stream",
          "name": "stdout",
          "text": [
            "Extracting ./data/cifar-10-python.tar.gz to ./data\n",
            "Files already downloaded and verified\n"
          ]
        }
      ]
    },
    {
      "cell_type": "code",
      "source": [
        "dataiter = iter(trainloader)\n",
        "images, labels = next(dataiter)\n",
        "print(images.shape, labels.shape)"
      ],
      "metadata": {
        "colab": {
          "base_uri": "https://localhost:8080/"
        },
        "id": "2oVCdK-KCSPV",
        "outputId": "19ff2038-01e6-419c-f6fb-1bde5e44f97c"
      },
      "execution_count": 3,
      "outputs": [
        {
          "output_type": "stream",
          "name": "stdout",
          "text": [
            "torch.Size([256, 3, 32, 32]) torch.Size([256])\n"
          ]
        }
      ]
    },
    {
      "cell_type": "code",
      "source": [
        "print(len(trainset))\n",
        "print(trainset[0][0].shape, trainset[0][1])\n",
        "plt.imshow(trainset[0][0][0])"
      ],
      "metadata": {
        "colab": {
          "base_uri": "https://localhost:8080/",
          "height": 484
        },
        "id": "2tyA0l7TCqjB",
        "outputId": "68578573-cad3-4876-8171-9c0038ce9352"
      },
      "execution_count": 4,
      "outputs": [
        {
          "output_type": "stream",
          "name": "stdout",
          "text": [
            "50000\n",
            "torch.Size([3, 32, 32]) 6\n"
          ]
        },
        {
          "output_type": "execute_result",
          "data": {
            "text/plain": [
              "<matplotlib.image.AxesImage at 0x7898efd5bee0>"
            ]
          },
          "metadata": {},
          "execution_count": 4
        },
        {
          "output_type": "display_data",
          "data": {
            "text/plain": [
              "<Figure size 640x480 with 1 Axes>"
            ],
            "image/png": "[encoded data removed]"
          },
          "metadata": {}
        }
      ]
    },
    {
      "cell_type": "code",
      "source": [
        "dataiter = iter(testloader)\n",
        "images, labels = next(dataiter)\n",
        "print(images.shape, labels.shape)"
      ],
      "metadata": {
        "colab": {
          "base_uri": "https://localhost:8080/"
        },
        "id": "hGFOz_aUCgOz",
        "outputId": "640e8180-7e7d-41d4-c630-abfc7dabd5c5"
      },
      "execution_count": 5,
      "outputs": [
        {
          "output_type": "stream",
          "name": "stdout",
          "text": [
            "torch.Size([256, 3, 32, 32]) torch.Size([256])\n"
          ]
        }
      ]
    },
    {
      "cell_type": "code",
      "source": [
        "print(len(testset))\n",
        "print(testset[0][0].shape, testset[0][1])\n",
        "plt.imshow(testset[0][0][0])"
      ],
      "metadata": {
        "colab": {
          "base_uri": "https://localhost:8080/",
          "height": 484
        },
        "id": "EoZdqLvYCv90",
        "outputId": "3fd36cf2-02f7-4717-9e44-3f1c7ee4fa18"
      },
      "execution_count": 6,
      "outputs": [
        {
          "output_type": "stream",
          "name": "stdout",
          "text": [
            "10000\n",
            "torch.Size([3, 32, 32]) 3\n"
          ]
        },
        {
          "output_type": "execute_result",
          "data": {
            "text/plain": [
              "<matplotlib.image.AxesImage at 0x7898e4793f10>"
            ]
          },
          "metadata": {},
          "execution_count": 6
        },
        {
          "output_type": "display_data",
          "data": {
            "text/plain": [
              "<Figure size 640x480 with 1 Axes>"
            ],
            "image/png": "[encoded data removed]"
          },
          "metadata": {}
        }
      ]
    },
    {
      "cell_type": "markdown",
      "source": [
        "## (Plot 1) SGD와 Adam을 학습시킨 후 각각의 epoch에 대한 train 정확도를 plot"
      ],
      "metadata": {
        "id": "0F-DlSP4CHjB"
      }
    },
    {
      "cell_type": "markdown",
      "source": [
        "### Adam으로 학습"
      ],
      "metadata": {
        "id": "TpWQ-azdHMao"
      }
    },
    {
      "cell_type": "code",
      "source": [
        "class Model(nn.Module):\n",
        "  def __init__(self, input_dim, n_dim):\n",
        "    super().__init__()\n",
        "\n",
        "    self.layer1 = nn.Linear(input_dim, n_dim)\n",
        "    self.layer2 = nn.Linear(n_dim, n_dim)\n",
        "    self.layer3 = nn.Linear(n_dim, 10)\n",
        "\n",
        "    ## 활성화 함수: LeakyReLU\n",
        "    self.act = nn.LeakyReLU()\n",
        "\n",
        "  def forward(self, x):\n",
        "    x = torch.flatten(x, start_dim=1)\n",
        "    x = self.act(self.layer1(x))\n",
        "    x = self.act(self.layer2(x))\n",
        "    x = self.act(self.layer3(x))\n",
        "\n",
        "    return x"
      ],
      "metadata": {
        "id": "yfnThQPGCLUS"
      },
      "execution_count": 7,
      "outputs": []
    },
    {
      "cell_type": "code",
      "source": [
        "input_dim = 32 * 32 * 3\n",
        "n_dim = 1024\n",
        "lr = 0.001\n",
        "n_epochs = 30\n",
        "\n",
        "model = model = Model(input_dim, n_dim).to('cuda')\n",
        "\n",
        "optimizer = Adam(model.parameters(), lr=lr)\n",
        "\n",
        "loss_fn = nn.CrossEntropyLoss()"
      ],
      "metadata": {
        "id": "akBGIeMQHORm"
      },
      "execution_count": 14,
      "outputs": []
    },
    {
      "cell_type": "code",
      "source": [
        "def accuracy(model, dataloader):\n",
        "  cnt = 0\n",
        "  acc = 0\n",
        "\n",
        "  for data in dataloader:\n",
        "    inputs, labels = data\n",
        "    inputs, labels = inputs.to('cuda'), labels.to('cuda')\n",
        "\n",
        "    preds = model(inputs)\n",
        "    preds = torch.argmax(preds, dim=-1)\n",
        "\n",
        "    cnt += labels.shape[0]\n",
        "    acc += (labels == preds).sum().item()\n",
        "\n",
        "  return acc / cnt"
      ],
      "metadata": {
        "id": "B2cevfw1Gtb7"
      },
      "execution_count": 16,
      "outputs": []
    },
    {
      "cell_type": "code",
      "source": [
        "train_accs_adam = []\n",
        "test_accs_adam = []\n",
        "\n",
        "for epoch in range(n_epochs):\n",
        "  total_loss = 0.\n",
        "  model.train()\n",
        "  for data in trainloader:\n",
        "    model.zero_grad()\n",
        "    inputs, labels = data\n",
        "    inputs, labels = inputs.to('cuda'), labels.to('cuda')\n",
        "\n",
        "    preds = model(inputs)\n",
        "    ## CrossEntropy 정의\n",
        "    loss = loss_fn(preds, labels)\n",
        "    loss.backward()\n",
        "    optimizer.step()\n",
        "\n",
        "    total_loss += loss.item()\n",
        "\n",
        "  # 1 epoch 당 정확도 저장\n",
        "  train_acc = accuracy(model, trainloader)\n",
        "  test_acc = accuracy(model, testloader)\n",
        "\n",
        "  train_accs_adam.append(train_acc)\n",
        "  test_accs_adam.append(test_acc)\n",
        "\n",
        "  print(f\"Epoch {epoch+1} | Loss: {total_loss} | Train Acc: {train_acc} | Test Acc: {test_acc}\")"
      ],
      "metadata": {
        "colab": {
          "base_uri": "https://localhost:8080/"
        },
        "id": "q5hZc6gUHfr3",
        "outputId": "9fa19e1c-6d58-46f1-a1a9-459ace86dbe6"
      },
      "execution_count": 17,
      "outputs": [
        {
          "output_type": "stream",
          "name": "stdout",
          "text": [
            "Epoch 1 | Loss: 401.7527139186859 | Train Acc: 0.2555 | Test Acc: 0.2528\n",
            "Epoch 2 | Loss: 379.5317665338516 | Train Acc: 0.30924 | Test Acc: 0.3082\n",
            "Epoch 3 | Loss: 362.70227324962616 | Train Acc: 0.34154 | Test Acc: 0.3382\n",
            "Epoch 4 | Loss: 350.7021554708481 | Train Acc: 0.37402 | Test Acc: 0.3729\n",
            "Epoch 5 | Loss: 339.24624848365784 | Train Acc: 0.38328 | Test Acc: 0.3875\n",
            "Epoch 6 | Loss: 331.6553589105606 | Train Acc: 0.38508 | Test Acc: 0.3905\n",
            "Epoch 7 | Loss: 323.0108289718628 | Train Acc: 0.41332 | Test Acc: 0.4167\n",
            "Epoch 8 | Loss: 316.5467816591263 | Train Acc: 0.4287 | Test Acc: 0.4292\n",
            "Epoch 9 | Loss: 310.2842917442322 | Train Acc: 0.43932 | Test Acc: 0.4374\n",
            "Epoch 10 | Loss: 303.85691571235657 | Train Acc: 0.43632 | Test Acc: 0.4339\n",
            "Epoch 11 | Loss: 300.12528789043427 | Train Acc: 0.46998 | Test Acc: 0.4644\n",
            "Epoch 12 | Loss: 293.96940994262695 | Train Acc: 0.47532 | Test Acc: 0.4701\n",
            "Epoch 13 | Loss: 290.2527838945389 | Train Acc: 0.47102 | Test Acc: 0.4605\n",
            "Epoch 14 | Loss: 285.3468428850174 | Train Acc: 0.48332 | Test Acc: 0.4687\n",
            "Epoch 15 | Loss: 281.14822578430176 | Train Acc: 0.48904 | Test Acc: 0.4707\n",
            "Epoch 16 | Loss: 277.62981927394867 | Train Acc: 0.50106 | Test Acc: 0.4827\n",
            "Epoch 17 | Loss: 275.1176347732544 | Train Acc: 0.50148 | Test Acc: 0.485\n",
            "Epoch 18 | Loss: 270.8180332183838 | Train Acc: 0.51744 | Test Acc: 0.4955\n",
            "Epoch 19 | Loss: 267.01393806934357 | Train Acc: 0.50156 | Test Acc: 0.4798\n",
            "Epoch 20 | Loss: 264.97396540641785 | Train Acc: 0.53186 | Test Acc: 0.4993\n",
            "Epoch 21 | Loss: 260.45504212379456 | Train Acc: 0.53952 | Test Acc: 0.5045\n",
            "Epoch 22 | Loss: 257.4582040309906 | Train Acc: 0.54606 | Test Acc: 0.5115\n",
            "Epoch 23 | Loss: 255.01324045658112 | Train Acc: 0.53308 | Test Acc: 0.499\n",
            "Epoch 24 | Loss: 253.0631514787674 | Train Acc: 0.54098 | Test Acc: 0.5065\n",
            "Epoch 25 | Loss: 248.91837430000305 | Train Acc: 0.55728 | Test Acc: 0.5218\n",
            "Epoch 26 | Loss: 247.37828075885773 | Train Acc: 0.54326 | Test Acc: 0.5024\n",
            "Epoch 27 | Loss: 245.06233751773834 | Train Acc: 0.57544 | Test Acc: 0.5256\n",
            "Epoch 28 | Loss: 240.72959899902344 | Train Acc: 0.57726 | Test Acc: 0.5239\n",
            "Epoch 29 | Loss: 237.63175439834595 | Train Acc: 0.57736 | Test Acc: 0.5189\n",
            "Epoch 30 | Loss: 237.76562094688416 | Train Acc: 0.57598 | Test Acc: 0.523\n"
          ]
        }
      ]
    },
    {
      "cell_type": "markdown",
      "source": [
        "### SGD로 학습"
      ],
      "metadata": {
        "id": "qnR8RcBwHJmW"
      }
    },
    {
      "cell_type": "code",
      "source": [
        "model = Model(input_dim, n_dim).to('cuda')\n",
        "\n",
        "optimizer = SGD(model.parameters(), lr=lr)"
      ],
      "metadata": {
        "id": "IkYTchi4GBPk"
      },
      "execution_count": 18,
      "outputs": []
    },
    {
      "cell_type": "code",
      "source": [
        "train_accs_sgd = []\n",
        "test_accs_sgd = []\n",
        "\n",
        "for epoch in range(n_epochs):\n",
        "  total_loss = 0.\n",
        "  model.train()\n",
        "  for data in trainloader:\n",
        "    model.zero_grad()\n",
        "    inputs, labels = data\n",
        "    inputs, labels = inputs.to('cuda'), labels.to('cuda')\n",
        "\n",
        "    preds = model(inputs)\n",
        "    ## CrossEntropy 정의\n",
        "    loss = loss_fn(preds, labels)\n",
        "    loss.backward()\n",
        "    optimizer.step()\n",
        "\n",
        "    total_loss += loss.item()\n",
        "\n",
        "  # 1 epoch 당 정확도 저장\n",
        "  train_acc = accuracy(model, trainloader)\n",
        "  test_acc = accuracy(model, testloader)\n",
        "\n",
        "  train_accs_sgd.append(train_acc)\n",
        "  test_accs_sgd.append(test_acc)\n",
        "\n",
        "  print(f\"Epoch {epoch+1} | Loss: {total_loss} | Train Acc: {train_acc} | Test Acc: {test_acc}\")"
      ],
      "metadata": {
        "colab": {
          "base_uri": "https://localhost:8080/"
        },
        "id": "lFuqK3IyG4k8",
        "outputId": "6aecfb4c-4cda-4180-b9c5-abd51ff5988d"
      },
      "execution_count": 19,
      "outputs": [
        {
          "output_type": "stream",
          "name": "stdout",
          "text": [
            "Epoch 1 | Loss: 450.7678174972534 | Train Acc: 0.11748 | Test Acc: 0.117\n",
            "Epoch 2 | Loss: 449.7200779914856 | Train Acc: 0.12834 | Test Acc: 0.1267\n",
            "Epoch 3 | Loss: 448.6532917022705 | Train Acc: 0.13912 | Test Acc: 0.14\n",
            "Epoch 4 | Loss: 447.53929829597473 | Train Acc: 0.143 | Test Acc: 0.1461\n",
            "Epoch 5 | Loss: 446.3988802433014 | Train Acc: 0.1483 | Test Acc: 0.1506\n",
            "Epoch 6 | Loss: 445.2995295524597 | Train Acc: 0.15684 | Test Acc: 0.1571\n",
            "Epoch 7 | Loss: 444.1910936832428 | Train Acc: 0.16706 | Test Acc: 0.1681\n",
            "Epoch 8 | Loss: 443.0333802700043 | Train Acc: 0.17376 | Test Acc: 0.1723\n",
            "Epoch 9 | Loss: 441.8720679283142 | Train Acc: 0.18282 | Test Acc: 0.1812\n",
            "Epoch 10 | Loss: 440.72922253608704 | Train Acc: 0.18918 | Test Acc: 0.1879\n",
            "Epoch 11 | Loss: 439.5478780269623 | Train Acc: 0.19618 | Test Acc: 0.1941\n",
            "Epoch 12 | Loss: 438.28741812705994 | Train Acc: 0.1973 | Test Acc: 0.1962\n",
            "Epoch 13 | Loss: 437.12643122673035 | Train Acc: 0.20366 | Test Acc: 0.2026\n",
            "Epoch 14 | Loss: 435.8993775844574 | Train Acc: 0.2074 | Test Acc: 0.2063\n",
            "Epoch 15 | Loss: 434.6420271396637 | Train Acc: 0.2093 | Test Acc: 0.2081\n",
            "Epoch 16 | Loss: 433.3994972705841 | Train Acc: 0.21416 | Test Acc: 0.213\n",
            "Epoch 17 | Loss: 432.16685247421265 | Train Acc: 0.21714 | Test Acc: 0.2145\n",
            "Epoch 18 | Loss: 430.9652292728424 | Train Acc: 0.21804 | Test Acc: 0.2157\n",
            "Epoch 19 | Loss: 429.80467462539673 | Train Acc: 0.22154 | Test Acc: 0.2192\n",
            "Epoch 20 | Loss: 428.64699125289917 | Train Acc: 0.22522 | Test Acc: 0.2206\n",
            "Epoch 21 | Loss: 427.4415521621704 | Train Acc: 0.22496 | Test Acc: 0.2212\n",
            "Epoch 22 | Loss: 426.3989522457123 | Train Acc: 0.22764 | Test Acc: 0.2241\n",
            "Epoch 23 | Loss: 425.29095125198364 | Train Acc: 0.22924 | Test Acc: 0.2261\n",
            "Epoch 24 | Loss: 424.2424190044403 | Train Acc: 0.23078 | Test Acc: 0.2276\n",
            "Epoch 25 | Loss: 423.21653842926025 | Train Acc: 0.2306 | Test Acc: 0.2285\n",
            "Epoch 26 | Loss: 422.24411034584045 | Train Acc: 0.23254 | Test Acc: 0.2301\n",
            "Epoch 27 | Loss: 421.244868516922 | Train Acc: 0.23302 | Test Acc: 0.2318\n",
            "Epoch 28 | Loss: 420.2924208641052 | Train Acc: 0.23322 | Test Acc: 0.2317\n",
            "Epoch 29 | Loss: 419.44382524490356 | Train Acc: 0.23406 | Test Acc: 0.2329\n",
            "Epoch 30 | Loss: 418.5516996383667 | Train Acc: 0.23678 | Test Acc: 0.2358\n"
          ]
        }
      ]
    },
    {
      "cell_type": "code",
      "source": [
        "def plot_acc(train_accs_sgd, train_accs_adam):\n",
        "  x = np.arange(len(train_accs_sgd))\n",
        "\n",
        "  plt.plot(x, train_accs_sgd, label='SGD')\n",
        "  plt.plot(x, train_accs_adam, label='Adam')\n",
        "  plt.xlabel('Epoch')\n",
        "  plt.ylabel('Train Accuaracy')\n",
        "  plt.legend()\n",
        "  plt.show()"
      ],
      "metadata": {
        "id": "1iD8o-RrK5z2"
      },
      "execution_count": 20,
      "outputs": []
    },
    {
      "cell_type": "code",
      "source": [
        "plot_acc(train_accs_sgd, train_accs_adam)"
      ],
      "metadata": {
        "colab": {
          "base_uri": "https://localhost:8080/",
          "height": 455
        },
        "id": "GMQ7oBvnOv6X",
        "outputId": "111aa528-d667-4696-a5e4-1bbb50f993be"
      },
      "execution_count": 21,
      "outputs": [
        {
          "output_type": "display_data",
          "data": {
            "text/plain": [
              "<Figure size 640x480 with 1 Axes>"
            ],
            "image/png": "[encoded data removed]"
          },
          "metadata": {}
        }
      ]
    },
    {
      "cell_type": "markdown",
      "source": [
        "## (Plot 2) Adam optimizer를 가지고 sigmoid와 leaky ReLU 모델들을 학습한 후, epoch에 따른 train 정확도를 비교"
      ],
      "metadata": {
        "id": "vwFFcWu1LdKl"
      }
    },
    {
      "cell_type": "code",
      "source": [
        "class Model(nn.Module):\n",
        "  def __init__(self, input_dim, n_dim):\n",
        "    super().__init__()\n",
        "\n",
        "    self.layer1 = nn.Linear(input_dim, n_dim)\n",
        "    self.layer2 = nn.Linear(n_dim, n_dim)\n",
        "    self.layer3 = nn.Linear(n_dim, 10)\n",
        "\n",
        "    ## 활성화 함수: sigmoid\n",
        "    self.act = nn.Sigmoid()\n",
        "\n",
        "  def forward(self, x):\n",
        "    x = torch.flatten(x, start_dim=1)\n",
        "    x = self.act(self.layer1(x))\n",
        "    x = self.act(self.layer2(x))\n",
        "    x = self.act(self.layer3(x))\n",
        "\n",
        "    return x"
      ],
      "metadata": {
        "id": "0pCh5DpOLgCP"
      },
      "execution_count": 25,
      "outputs": []
    },
    {
      "cell_type": "code",
      "source": [
        "input_dim = 32 * 32 * 3\n",
        "n_dim = 1024\n",
        "lr = 0.001\n",
        "\n",
        "model = Model(input_dim, n_dim).to('cuda')\n",
        "\n",
        "n_epochs = 30\n",
        "optimizer = SGD(model.parameters(), lr=lr)"
      ],
      "metadata": {
        "id": "_EhnU-d5Mfq_"
      },
      "execution_count": 26,
      "outputs": []
    },
    {
      "cell_type": "code",
      "source": [
        "train_accs_sig = []\n",
        "test_accs_sig = []\n",
        "\n",
        "for epoch in range(n_epochs):\n",
        "  total_loss = 0.\n",
        "  model.train()\n",
        "  for data in trainloader:\n",
        "    model.zero_grad()\n",
        "    inputs, labels = data\n",
        "    inputs, labels = inputs.to('cuda'), labels.to('cuda')\n",
        "\n",
        "    preds = model(inputs)\n",
        "    ## CrossEntropy 정의\n",
        "    loss = loss_fn(preds, labels)\n",
        "    loss.backward()\n",
        "    optimizer.step()\n",
        "\n",
        "    total_loss += loss.item()\n",
        "\n",
        "  # 1 epoch 당 정확도 저장\n",
        "  train_acc = accuracy(model, trainloader)\n",
        "  test_acc = accuracy(model, testloader)\n",
        "\n",
        "  train_accs_sig.append(train_acc)\n",
        "  test_accs_sig.append(test_acc)\n",
        "\n",
        "  print(f\"Epoch {epoch+1} | Loss: {total_loss} | Train Acc: {train_acc} | Test Acc: {test_acc}\")"
      ],
      "metadata": {
        "colab": {
          "base_uri": "https://localhost:8080/"
        },
        "id": "YqL7dgZGMOuv",
        "outputId": "547fb5ab-6c5d-49a0-baf9-99004fd55e2b"
      },
      "execution_count": 27,
      "outputs": [
        {
          "output_type": "stream",
          "name": "stdout",
          "text": [
            "Epoch 1 | Loss: 452.05219197273254 | Train Acc: 0.1 | Test Acc: 0.1\n",
            "Epoch 2 | Loss: 451.7280514240265 | Train Acc: 0.1 | Test Acc: 0.1\n",
            "Epoch 3 | Loss: 451.533908367157 | Train Acc: 0.10006 | Test Acc: 0.1001\n",
            "Epoch 4 | Loss: 451.4334788322449 | Train Acc: 0.10054 | Test Acc: 0.1004\n",
            "Epoch 5 | Loss: 451.373929977417 | Train Acc: 0.10134 | Test Acc: 0.1008\n",
            "Epoch 6 | Loss: 451.34152722358704 | Train Acc: 0.11932 | Test Acc: 0.1203\n",
            "Epoch 7 | Loss: 451.3261933326721 | Train Acc: 0.11872 | Test Acc: 0.1209\n",
            "Epoch 8 | Loss: 451.3164303302765 | Train Acc: 0.12102 | Test Acc: 0.1226\n",
            "Epoch 9 | Loss: 451.3091266155243 | Train Acc: 0.1039 | Test Acc: 0.1038\n",
            "Epoch 10 | Loss: 451.30492329597473 | Train Acc: 0.14432 | Test Acc: 0.1459\n",
            "Epoch 11 | Loss: 451.30279183387756 | Train Acc: 0.12112 | Test Acc: 0.1203\n",
            "Epoch 12 | Loss: 451.30027532577515 | Train Acc: 0.1126 | Test Acc: 0.1098\n",
            "Epoch 13 | Loss: 451.29793524742126 | Train Acc: 0.1138 | Test Acc: 0.1125\n",
            "Epoch 14 | Loss: 451.2955095767975 | Train Acc: 0.10958 | Test Acc: 0.1094\n",
            "Epoch 15 | Loss: 451.29330563545227 | Train Acc: 0.12408 | Test Acc: 0.1225\n",
            "Epoch 16 | Loss: 451.291620016098 | Train Acc: 0.14092 | Test Acc: 0.1434\n",
            "Epoch 17 | Loss: 451.2897262573242 | Train Acc: 0.11506 | Test Acc: 0.119\n",
            "Epoch 18 | Loss: 451.2872791290283 | Train Acc: 0.14176 | Test Acc: 0.1489\n",
            "Epoch 19 | Loss: 451.28572511672974 | Train Acc: 0.12696 | Test Acc: 0.1301\n",
            "Epoch 20 | Loss: 451.2838966846466 | Train Acc: 0.15648 | Test Acc: 0.1575\n",
            "Epoch 21 | Loss: 451.28149151802063 | Train Acc: 0.14336 | Test Acc: 0.1472\n",
            "Epoch 22 | Loss: 451.2798955440521 | Train Acc: 0.11396 | Test Acc: 0.1131\n",
            "Epoch 23 | Loss: 451.2783408164978 | Train Acc: 0.11794 | Test Acc: 0.1217\n",
            "Epoch 24 | Loss: 451.27605271339417 | Train Acc: 0.12302 | Test Acc: 0.1181\n",
            "Epoch 25 | Loss: 451.2741255760193 | Train Acc: 0.1205 | Test Acc: 0.1189\n",
            "Epoch 26 | Loss: 451.27245807647705 | Train Acc: 0.12174 | Test Acc: 0.1257\n",
            "Epoch 27 | Loss: 451.2698743343353 | Train Acc: 0.1377 | Test Acc: 0.1385\n",
            "Epoch 28 | Loss: 451.26822328567505 | Train Acc: 0.1418 | Test Acc: 0.1504\n",
            "Epoch 29 | Loss: 451.2666184902191 | Train Acc: 0.12802 | Test Acc: 0.1321\n",
            "Epoch 30 | Loss: 451.2641291618347 | Train Acc: 0.11658 | Test Acc: 0.1173\n"
          ]
        }
      ]
    },
    {
      "cell_type": "code",
      "source": [
        "def plot_acc2(train_accs_leakyrelu, train_accs_sigmoid):\n",
        "    x = np.arange(len(train_accs_leakyrelu))\n",
        "\n",
        "    plt.plot(x, train_accs_leakyrelu, label='LeakyReLU')\n",
        "    plt.plot(x, train_accs_sigmoid, label='Sigmoid')\n",
        "    plt.xlabel('Epoch')\n",
        "    plt.ylabel('Train Accuracy')\n",
        "    plt.legend()\n",
        "    plt.show()"
      ],
      "metadata": {
        "id": "Q25QBbOxY0TP"
      },
      "execution_count": 29,
      "outputs": []
    },
    {
      "cell_type": "code",
      "source": [
        "plot_acc2(train_accs_adam, train_accs_sig)"
      ],
      "metadata": {
        "colab": {
          "base_uri": "https://localhost:8080/",
          "height": 454
        },
        "id": "hE__FP1dOZsA",
        "outputId": "0444b1dd-1ed1-4638-8573-3d7ef0b1eea5"
      },
      "execution_count": 30,
      "outputs": [
        {
          "output_type": "display_data",
          "data": {
            "text/plain": [
              "<Figure size 640x480 with 1 Axes>"
            ],
            "image/png": "[encoded data removed]"
          },
          "metadata": {}
        }
      ]
    },
    {
      "cell_type": "markdown",
      "source": [
        "### (Plot 3) Adam optimizer를 가지고 dropout을 적용한 모델을 학습한 후, epoch에 따른 train과 test 정확도를 비교"
      ],
      "metadata": {
        "id": "usPdGruoO06I"
      }
    },
    {
      "cell_type": "code",
      "source": [
        "class Model(nn.Module):\n",
        "  def __init__(self, input_dim, n_dim):\n",
        "    super().__init__()\n",
        "\n",
        "    self.layer1 = nn.Sequential(\n",
        "        nn.Linear(input_dim, n_dim),\n",
        "        nn.LeakyReLU(),\n",
        "        nn.Dropout(0.1)\n",
        "    )\n",
        "    self.layer2 = nn.Sequential(\n",
        "        nn.Linear(n_dim, n_dim),\n",
        "        nn.LeakyReLU(),\n",
        "        nn.Dropout(0.1)\n",
        "    )\n",
        "    self.layer3 = nn.Linear(n_dim, 10)\n",
        "\n",
        "    ## 활성화 함수: LeakyReLU\n",
        "    self.act = nn.LeakyReLU()\n",
        "\n",
        "  def forward(self, x):\n",
        "    x = torch.flatten(x, start_dim=1)\n",
        "    x = self.act(self.layer1(x))\n",
        "    x = self.act(self.layer2(x))\n",
        "    x = self.act(self.layer3(x))\n",
        "\n",
        "    return x"
      ],
      "metadata": {
        "id": "tIfW9Of6O653"
      },
      "execution_count": 31,
      "outputs": []
    },
    {
      "cell_type": "code",
      "source": [
        "input_dim = 32 * 32 * 3\n",
        "n_dim = 1024\n",
        "lr = 0.001\n",
        "\n",
        "model = Model(input_dim, n_dim).to('cuda')\n",
        "\n",
        "n_epochs = 30\n",
        "optimizer = Adam(model.parameters(), lr=lr)"
      ],
      "metadata": {
        "id": "1T9NqyGlP24Q"
      },
      "execution_count": 32,
      "outputs": []
    },
    {
      "cell_type": "code",
      "source": [
        "loss_fn = nn.CrossEntropyLoss()\n",
        "\n",
        "train_accs_dropout = []\n",
        "test_accs_dropout = []\n",
        "\n",
        "for epoch in range(n_epochs):\n",
        "  total_loss = 0.\n",
        "  model.train()\n",
        "  for data in trainloader:\n",
        "    model.zero_grad()\n",
        "    inputs, labels = data\n",
        "    inputs, labels = inputs.to('cuda'), labels.to('cuda')\n",
        "\n",
        "    preds = model(inputs)\n",
        "    ## CrossEntropy 정의\n",
        "    loss = loss_fn(preds, labels)\n",
        "    loss.backward()\n",
        "    optimizer.step()\n",
        "\n",
        "    total_loss += loss.item()\n",
        "\n",
        "  with torch.no_grad():\n",
        "    model.eval()\n",
        "    train_acc = accuracy(model, trainloader)\n",
        "    test_acc = accuracy(model, testloader)\n",
        "\n",
        "  train_accs_dropout.append(train_acc)\n",
        "  test_accs_dropout.append(test_acc)\n",
        "\n",
        "  print(f\"Epoch {epoch+1} | Loss: {total_loss} | Train Acc: {train_acc} | Test Acc: {test_acc}\")"
      ],
      "metadata": {
        "colab": {
          "base_uri": "https://localhost:8080/"
        },
        "id": "IuyYwHzLPhTY",
        "outputId": "f7ffbc5d-836c-4e11-c8b2-3f4120e8b709"
      },
      "execution_count": 33,
      "outputs": [
        {
          "output_type": "stream",
          "name": "stdout",
          "text": [
            "Epoch 1 | Loss: 437.70275139808655 | Train Acc: 0.18316 | Test Acc: 0.185\n",
            "Epoch 2 | Loss: 400.0320336818695 | Train Acc: 0.27826 | Test Acc: 0.2764\n",
            "Epoch 3 | Loss: 377.54629385471344 | Train Acc: 0.32184 | Test Acc: 0.3202\n",
            "Epoch 4 | Loss: 363.0529919862747 | Train Acc: 0.345 | Test Acc: 0.3395\n",
            "Epoch 5 | Loss: 351.6480984687805 | Train Acc: 0.3737 | Test Acc: 0.377\n",
            "Epoch 6 | Loss: 341.3780837059021 | Train Acc: 0.38696 | Test Acc: 0.3934\n",
            "Epoch 7 | Loss: 332.1821542978287 | Train Acc: 0.40108 | Test Acc: 0.4034\n",
            "Epoch 8 | Loss: 324.69199085235596 | Train Acc: 0.41878 | Test Acc: 0.4195\n",
            "Epoch 9 | Loss: 319.77724754810333 | Train Acc: 0.43228 | Test Acc: 0.4291\n",
            "Epoch 10 | Loss: 312.80671298503876 | Train Acc: 0.44508 | Test Acc: 0.4417\n",
            "Epoch 11 | Loss: 307.8382030725479 | Train Acc: 0.45874 | Test Acc: 0.4557\n",
            "Epoch 12 | Loss: 301.92236483097076 | Train Acc: 0.45784 | Test Acc: 0.4475\n",
            "Epoch 13 | Loss: 297.9824415445328 | Train Acc: 0.45456 | Test Acc: 0.4433\n",
            "Epoch 14 | Loss: 294.19274032115936 | Train Acc: 0.47854 | Test Acc: 0.4653\n",
            "Epoch 15 | Loss: 290.4735732078552 | Train Acc: 0.48934 | Test Acc: 0.476\n",
            "Epoch 16 | Loss: 286.1944445371628 | Train Acc: 0.4988 | Test Acc: 0.4797\n",
            "Epoch 17 | Loss: 284.61899423599243 | Train Acc: 0.50282 | Test Acc: 0.4837\n",
            "Epoch 18 | Loss: 280.363835811615 | Train Acc: 0.51654 | Test Acc: 0.4952\n",
            "Epoch 19 | Loss: 277.3567340373993 | Train Acc: 0.52066 | Test Acc: 0.496\n",
            "Epoch 20 | Loss: 275.9048351049423 | Train Acc: 0.5266 | Test Acc: 0.4994\n",
            "Epoch 21 | Loss: 271.4477423429489 | Train Acc: 0.52556 | Test Acc: 0.5026\n",
            "Epoch 22 | Loss: 269.69546884298325 | Train Acc: 0.52856 | Test Acc: 0.5031\n",
            "Epoch 23 | Loss: 267.43098306655884 | Train Acc: 0.54298 | Test Acc: 0.5165\n",
            "Epoch 24 | Loss: 264.2033603191376 | Train Acc: 0.5447 | Test Acc: 0.515\n",
            "Epoch 25 | Loss: 261.64365911483765 | Train Acc: 0.54386 | Test Acc: 0.5093\n",
            "Epoch 26 | Loss: 258.34383249282837 | Train Acc: 0.55482 | Test Acc: 0.5193\n",
            "Epoch 27 | Loss: 255.51617884635925 | Train Acc: 0.56184 | Test Acc: 0.5188\n",
            "Epoch 28 | Loss: 254.3640468120575 | Train Acc: 0.56096 | Test Acc: 0.5256\n",
            "Epoch 29 | Loss: 251.20952713489532 | Train Acc: 0.57234 | Test Acc: 0.5314\n",
            "Epoch 30 | Loss: 250.8888976573944 | Train Acc: 0.5652 | Test Acc: 0.519\n"
          ]
        }
      ]
    },
    {
      "cell_type": "code",
      "source": [
        "def plot_acc3(train_accs, test_accs):\n",
        "    x = np.arange(len(train_accs))\n",
        "\n",
        "    plt.plot(x, train_accs, label='Train Accuracy')\n",
        "    plt.plot(x, test_accs, label='Test Accuracy')\n",
        "    plt.xlabel('Epoch')\n",
        "    plt.ylabel('Accuracy')\n",
        "    plt.legend()\n",
        "    plt.show()"
      ],
      "metadata": {
        "id": "hfEPnYSXUSTQ"
      },
      "execution_count": 34,
      "outputs": []
    },
    {
      "cell_type": "code",
      "source": [
        "plot_acc3(train_accs_dropout, test_accs_dropout)"
      ],
      "metadata": {
        "colab": {
          "base_uri": "https://localhost:8080/",
          "height": 449
        },
        "id": "yE4KhOa6ZLcz",
        "outputId": "03f2051a-8bf5-4920-c8a0-256aad960635"
      },
      "execution_count": 35,
      "outputs": [
        {
          "output_type": "display_data",
          "data": {
            "text/plain": [
              "<Figure size 640x480 with 1 Axes>"
            ],
            "image/png": "[encoded data removed]"
          },
          "metadata": {}
        }
      ]
    }
  ]
}